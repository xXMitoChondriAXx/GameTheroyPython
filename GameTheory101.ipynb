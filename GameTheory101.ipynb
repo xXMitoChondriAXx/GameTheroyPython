{
 "cells": [
  {
   "cell_type": "code",
   "execution_count": 14,
   "id": "0965bfa9",
   "metadata": {},
   "outputs": [],
   "source": [
    "import nashpy as nash\n",
    "import numpy as np"
   ]
  },
  {
   "cell_type": "code",
   "execution_count": 4,
   "id": "caabbfe1",
   "metadata": {},
   "outputs": [],
   "source": [
    "A = [[3, 1], [0, 2]]\n",
    "B = [[2, 1], [0, 3]]\n",
    "bofts = nash.Game(A, B)"
   ]
  },
  {
   "cell_type": "code",
   "execution_count": 5,
   "id": "b37e0641",
   "metadata": {},
   "outputs": [
    {
     "data": {
      "text/plain": [
       "Bi matrix game with payoff matrices:\n",
       "\n",
       "Row player:\n",
       "[[3 1]\n",
       " [0 2]]\n",
       "\n",
       "Column player:\n",
       "[[2 1]\n",
       " [0 3]]"
      ]
     },
     "execution_count": 5,
     "metadata": {},
     "output_type": "execute_result"
    }
   ],
   "source": [
    "bofts"
   ]
  },
  {
   "cell_type": "code",
   "execution_count": 7,
   "id": "3f752bf9",
   "metadata": {},
   "outputs": [],
   "source": [
    "A = [[1, -1], [-1, 1]]\n",
    "B = [[-1, 1], [1, -1]]\n",
    "matching_pennies = nash.Game(A, B)"
   ]
  },
  {
   "cell_type": "code",
   "execution_count": 8,
   "id": "9c549309",
   "metadata": {},
   "outputs": [
    {
     "data": {
      "text/plain": [
       "Zero sum game with payoff matrices:\n",
       "\n",
       "Row player:\n",
       "[[ 1 -1]\n",
       " [-1  1]]\n",
       "\n",
       "Column player:\n",
       "[[-1  1]\n",
       " [ 1 -1]]"
      ]
     },
     "execution_count": 8,
     "metadata": {},
     "output_type": "execute_result"
    }
   ],
   "source": [
    "matching_pennies"
   ]
  },
  {
   "cell_type": "code",
   "execution_count": 10,
   "id": "1070de3a",
   "metadata": {},
   "outputs": [],
   "source": [
    "sigma_r =  np.array([.8, .2])\n",
    "sigma_c = np.array([.6, .4])"
   ]
  },
  {
   "cell_type": "code",
   "execution_count": 13,
   "id": "1a2e81e3",
   "metadata": {},
   "outputs": [
    {
     "data": {
      "text/plain": [
       "array([ 0.12, -0.12])"
      ]
     },
     "execution_count": 13,
     "metadata": {},
     "output_type": "execute_result"
    }
   ],
   "source": [
    "matching_pennies[sigma_r, sigma_c]"
   ]
  },
  {
   "cell_type": "code",
   "execution_count": 15,
   "id": "370d7f91",
   "metadata": {},
   "outputs": [
    {
     "data": {
      "text/plain": [
       "Bi matrix game with payoff matrices:\n",
       "\n",
       "Row player:\n",
       "[[ 1  1 -1]\n",
       " [ 2 -1  0]]\n",
       "\n",
       "Column player:\n",
       "[[ 0.5 -1.  -0.5]\n",
       " [-1.   3.   2. ]]"
      ]
     },
     "execution_count": 15,
     "metadata": {},
     "output_type": "execute_result"
    }
   ],
   "source": [
    "A = np.array([[1, 1, -1],[2,-1, 0]])\n",
    "B = np.array([[1/2, -1, -1/2],[-1, 3, 2]])\n",
    "\n",
    "game = nash.Game(A, B)\n",
    "game"
   ]
  },
  {
   "cell_type": "code",
   "execution_count": 17,
   "id": "8fe6e23c",
   "metadata": {},
   "outputs": [],
   "source": [
    "eqs = game.support_enumeration()"
   ]
  },
  {
   "cell_type": "code",
   "execution_count": 18,
   "id": "d8f1fd77",
   "metadata": {},
   "outputs": [
    {
     "data": {
      "text/plain": [
       "generator"
      ]
     },
     "execution_count": 18,
     "metadata": {},
     "output_type": "execute_result"
    }
   ],
   "source": [
    "type(eqs)"
   ]
  },
  {
   "cell_type": "code",
   "execution_count": 19,
   "id": "9762da4d",
   "metadata": {},
   "outputs": [
    {
     "name": "stdout",
     "output_type": "stream",
     "text": [
      "(array([0.66666667, 0.33333333]), array([-0.        ,  0.33333333,  0.66666667]))\n"
     ]
    }
   ],
   "source": [
    "for eq in eqs:\n",
    "    print(eq)"
   ]
  },
  {
   "cell_type": "code",
   "execution_count": 20,
   "id": "47d895d1",
   "metadata": {},
   "outputs": [],
   "source": [
    "#generator, once used, cannot be reused.\n",
    "eqs = game.support_enumeration()"
   ]
  },
  {
   "cell_type": "code",
   "execution_count": 21,
   "id": "8aec5e65",
   "metadata": {},
   "outputs": [
    {
     "data": {
      "text/plain": [
       "[(array([0.66666667, 0.33333333]),\n",
       "  array([-0.        ,  0.33333333,  0.66666667]))]"
      ]
     },
     "execution_count": 21,
     "metadata": {},
     "output_type": "execute_result"
    }
   ],
   "source": [
    "list(eqs)"
   ]
  },
  {
   "cell_type": "code",
   "execution_count": 22,
   "id": "0a7c9c56",
   "metadata": {},
   "outputs": [],
   "source": [
    "eqs = game.vertex_enumeration()"
   ]
  },
  {
   "cell_type": "code",
   "execution_count": 23,
   "id": "2b9b2f9a",
   "metadata": {},
   "outputs": [
    {
     "data": {
      "text/plain": [
       "[(array([0.66666667, 0.33333333]),\n",
       "  array([-1.85037171e-17,  3.33333333e-01,  6.66666667e-01]))]"
      ]
     },
     "execution_count": 23,
     "metadata": {},
     "output_type": "execute_result"
    }
   ],
   "source": [
    "list(eqs)"
   ]
  },
  {
   "cell_type": "code",
   "execution_count": 24,
   "id": "ebb75400",
   "metadata": {},
   "outputs": [],
   "source": [
    "#Lemke-Howson algorithm \n",
    "A = [[3, 1], [0, 2]]\n",
    "B = [[2, 1], [0, 3]]\n",
    "bofts = nash.Game(A, B)"
   ]
  },
  {
   "cell_type": "code",
   "execution_count": 50,
   "id": "99ecea96",
   "metadata": {},
   "outputs": [
    {
     "data": {
      "text/plain": [
       "Bi matrix game with payoff matrices:\n",
       "\n",
       "Row player:\n",
       "[[3 1]\n",
       " [0 2]]\n",
       "\n",
       "Column player:\n",
       "[[2 1]\n",
       " [0 3]]"
      ]
     },
     "execution_count": 50,
     "metadata": {},
     "output_type": "execute_result"
    }
   ],
   "source": [
    "bofts"
   ]
  },
  {
   "cell_type": "code",
   "execution_count": 27,
   "id": "7d21a5c0",
   "metadata": {},
   "outputs": [
    {
     "data": {
      "text/plain": [
       "(array([1., 0.]), array([1., 0.]))"
      ]
     },
     "execution_count": 27,
     "metadata": {},
     "output_type": "execute_result"
    }
   ],
   "source": [
    "bofts.lemke_howson(initial_dropped_label=0)"
   ]
  },
  {
   "cell_type": "code",
   "execution_count": 30,
   "id": "cb896c48",
   "metadata": {},
   "outputs": [
    {
     "name": "stdout",
     "output_type": "stream",
     "text": [
      "(array([1., 0.]), array([1., 0.]))\n",
      "(array([0., 1.]), array([0., 1.]))\n",
      "(array([1., 0.]), array([1., 0.]))\n",
      "(array([0., 1.]), array([0., 1.]))\n"
     ]
    }
   ],
   "source": [
    "for label in range(4):\n",
    "    print(bofts.lemke_howson(initial_dropped_label=label))"
   ]
  },
  {
   "cell_type": "code",
   "execution_count": 31,
   "id": "313d8c4d",
   "metadata": {},
   "outputs": [],
   "source": [
    "eqs = bofts.lemke_howson_enumeration"
   ]
  },
  {
   "cell_type": "code",
   "execution_count": 33,
   "id": "e2f678aa",
   "metadata": {},
   "outputs": [
    {
     "data": {
      "text/plain": [
       "[array([0.66666667, 0.33333333]),\n",
       " array([-0.        ,  0.33333333,  0.66666667])]"
      ]
     },
     "execution_count": 33,
     "metadata": {},
     "output_type": "execute_result"
    }
   ],
   "source": [
    "list(eq)"
   ]
  },
  {
   "cell_type": "code",
   "execution_count": 34,
   "id": "843f7b9c",
   "metadata": {},
   "outputs": [],
   "source": [
    "import axelrod as axl"
   ]
  },
  {
   "cell_type": "code",
   "execution_count": 41,
   "id": "0de40d6c",
   "metadata": {},
   "outputs": [
    {
     "data": {
      "text/plain": [
       "[(C, C), (C, D), (D, C), (C, D), (D, C), (C, D)]"
      ]
     },
     "execution_count": 41,
     "metadata": {},
     "output_type": "execute_result"
    }
   ],
   "source": [
    "#Prisioner's Dilemma\n",
    "players = (axl.TitForTat(), axl.Alternator())\n",
    "match = axl.Match(players, 6)\n",
    "match.play()"
   ]
  },
  {
   "cell_type": "code",
   "execution_count": 42,
   "id": "69f7a1a4",
   "metadata": {},
   "outputs": [
    {
     "data": {
      "text/plain": [
       "(2.1666666666666665, 3.0)"
      ]
     },
     "execution_count": 42,
     "metadata": {},
     "output_type": "execute_result"
    }
   ],
   "source": [
    "match.final_score_per_turn()"
   ]
  },
  {
   "cell_type": "code",
   "execution_count": 45,
   "id": "54c5abf5",
   "metadata": {},
   "outputs": [
    {
     "name": "stderr",
     "output_type": "stream",
     "text": [
      "Playing matches: 100%|██████████| 15/15 [00:00<00:00, 504.45it/s]\n",
      "Analysing: 100%|██████████| 25/25 [00:00<00:00, 169.88it/s]\n"
     ]
    }
   ],
   "source": [
    "players = [s() for s in axl.demo_strategies]\n",
    "tournament = axl.Tournament(players = players, turns = 10, repetitions = 5)\n",
    "results = tournament.play()"
   ]
  },
  {
   "cell_type": "code",
   "execution_count": 46,
   "id": "37d95906",
   "metadata": {},
   "outputs": [],
   "source": [
    "%matplotlib inline"
   ]
  },
  {
   "cell_type": "code",
   "execution_count": 49,
   "id": "6527fa26",
   "metadata": {},
   "outputs": [
    {
     "data": {
      "image/png": "[encoded data removed]",
      "text/plain": [
       "<Figure size 864x432 with 1 Axes>"
      ]
     },
     "metadata": {
      "needs_background": "light"
     },
     "output_type": "display_data"
    }
   ],
   "source": [
    "plot = axl.Plot(results)\n",
    "plot.boxplot();"
   ]
  },
  {
   "cell_type": "code",
   "execution_count": 58,
   "id": "cbbd5b61",
   "metadata": {},
   "outputs": [],
   "source": [
    "#Infinite population games \n",
    "import scipy \n",
    "from scipy.integrate import odeint\n",
    "import matplotlib.pyplot as plt"
   ]
  },
  {
   "cell_type": "code",
   "execution_count": 52,
   "id": "254ac47d",
   "metadata": {},
   "outputs": [],
   "source": [
    "def dx(x, t, A):\n",
    "    f = np.dot(A, x)\n",
    "    phi = np.dot(f, x)\n",
    "    return x * (f-phi)\n",
    "    \n",
    "    "
   ]
  },
  {
   "cell_type": "code",
   "execution_count": 56,
   "id": "9388aefa",
   "metadata": {},
   "outputs": [],
   "source": [
    "t = np.linspace(0, 10, 100)\n",
    "A = np.array([[4, 3, 2],[2, 1, 5], [6, 0, 3]])\n",
    "xs = odeint(func=dx, y0=[1/3, 1/3, 1/3], t=t, args=(A,))"
   ]
  },
  {
   "cell_type": "code",
   "execution_count": 60,
   "id": "7c23d967",
   "metadata": {},
   "outputs": [
    {
     "data": {
      "image/png": "[encoded data removed]",
      "text/plain": [
       "<Figure size 432x288 with 1 Axes>"
      ]
     },
     "metadata": {
      "needs_background": "light"
     },
     "output_type": "display_data"
    }
   ],
   "source": [
    "plt.plot(xs);"
   ]
  },
  {
   "cell_type": "code",
   "execution_count": 63,
   "id": "5bc24cdd",
   "metadata": {},
   "outputs": [],
   "source": [
    "#Finite population games Moran Processes \n",
    "def moran(N, game, i=1, seed=0):\n",
    "    \"\"\"\n",
    "    Return the population counts for \n",
    "    the Moran process on 2 by 2 game\n",
    "    \"\"\"\n",
    "    population = [0 for _ in range(i)] + [1 for _ in range(N-i)]# i number of 0s, and N-i number of 1s\n",
    "    counts = [(population.count(0), population.count(1))]\n",
    "    \n",
    "    np.random.seed(seed)\n",
    "    \n",
    "    while len(set(population))== 2:\n",
    "        scores = []\n",
    "        \n",
    "        for i, player in enumerate(population):\n",
    "            total = 0\n",
    "            for j, opponent in enumerate(population):#for all players to play every other player\n",
    "                if i != j:\n",
    "                    total += game[player, opponent]\n",
    "            scores.append(total)\n",
    "        \n",
    "        total_score= sum(scores)\n",
    "        probs = [score/total_score for score in scores]\n",
    "        rep_index = np.random.choice(range(N), p=probs)\n",
    "        \n",
    "        elim_index = np.random.randint(N)\n",
    "        population[elim_index] = population[rep_index]\n",
    "        \n",
    "        counts.append((population.count(0), population.count(1)))\n",
    "    return counts "
   ]
  },
  {
   "cell_type": "code",
   "execution_count": 71,
   "id": "8161f921",
   "metadata": {},
   "outputs": [
    {
     "data": {
      "image/png": "[encoded data removed]",
      "text/plain": [
       "<Figure size 432x288 with 1 Axes>"
      ]
     },
     "metadata": {
      "needs_background": "light"
     },
     "output_type": "display_data"
    }
   ],
   "source": [
    "N = 8 \n",
    "A = np.array([[4, 1], [1, 4]])\n",
    "counts = moran(N=N, game=A, seed=17)\n",
    "plt.plot(counts);"
   ]
  },
  {
   "cell_type": "code",
   "execution_count": null,
   "id": "f80f8024",
   "metadata": {},
   "outputs": [],
   "source": []
  }
 ],
 "metadata": {
  "kernelspec": {
   "display_name": "Python 3 (ipykernel)",
   "language": "python",
   "name": "python3"
  },
  "language_info": {
   "codemirror_mode": {
    "name": "ipython",
    "version": 3
   },
   "file_extension": ".py",
   "mimetype": "text/x-python",
   "name": "python",
   "nbconvert_exporter": "python",
   "pygments_lexer": "ipython3",
   "version": "3.9.12"
  }
 },
 "nbformat": 4,
 "nbformat_minor": 5
}
